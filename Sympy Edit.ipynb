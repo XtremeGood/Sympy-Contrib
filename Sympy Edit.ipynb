{
 "cells": [
  {
   "cell_type": "code",
   "execution_count": 52,
   "metadata": {},
   "outputs": [
    {
     "data": {
      "image/png": "[encoded data removed]",
      "text/latex": [
       "$$f{\\left (x \\right )} = C_{1} - \\sqrt{- \\frac{1}{C_{2}}} \\log{\\left (- C_{2} \\sqrt{- \\frac{1}{C_{2}}} + x \\right )} + \\sqrt{- \\frac{1}{C_{2}}} \\log{\\left (C_{2} \\sqrt{- \\frac{1}{C_{2}}} + x \\right )}$$"
      ],
      "text/plain": [
       "                _____    ⎛         _____    ⎞       _____    ⎛       _____    \n",
       "               ╱ -1      ⎜        ╱ -1      ⎟      ╱ -1      ⎜      ╱ -1      \n",
       "f(x) = C₁ -   ╱  ─── ⋅log⎜- C₂⋅  ╱  ───  + x⎟ +   ╱  ─── ⋅log⎜C₂⋅  ╱  ───  + x\n",
       "            ╲╱    C₂     ⎝     ╲╱    C₂     ⎠   ╲╱    C₂     ⎝   ╲╱    C₂     \n",
       "\n",
       "⎞\n",
       "⎟\n",
       "⎟\n",
       "⎠"
      ]
     },
     "execution_count": 52,
     "metadata": {},
     "output_type": "execute_result"
    }
   ],
   "source": [
    "from sympy.abc import x\n",
    "from sympy.solvers.deutils import ode_order\n",
    "from sympy.solvers.ode import classify_ode,sub_func_doit,dsolve\n",
    "from sympy import *\n",
    "init_printing()\n",
    "\n",
    "f = Function('f')\n",
    "\n",
    "\n",
    "eq = f(x).diff(x, 2) + x*f(x).diff(x)**2\n",
    "\n",
    "#dsolve(eq.subs(Derivative(f,x),g))\n",
    "def reduction_of_order(eq):\n",
    "    \n",
    "    try: \n",
    "       \n",
    "        return dsolve(eq)\n",
    "\n",
    "    except NotImplementedError:\n",
    "        \n",
    "        atom_x = list(eq.atoms(Symbol))[0]\n",
    "        atom_f = list(eq.atoms(Function))[0]\n",
    "        \n",
    "        if ode_order(eq,atom_f)> 1:\n",
    "            g = Function('g')(atom_x)\n",
    "            return dsolve(reduction_of_order(eq.subs(atom_f.diff(atom_x),g )).subs(g,atom_f.diff(atom_x)))\n",
    "        else:\n",
    "            raise NotImplementedError\n",
    "                   \n",
    "reduction_of_order(eq )"
   ]
  }
 ],
 "metadata": {
  "kernelspec": {
   "display_name": "Python 3",
   "language": "python",
   "name": "python3"
  },
  "language_info": {
   "codemirror_mode": {
    "name": "ipython",
    "version": 3
   },
   "file_extension": ".py",
   "mimetype": "text/x-python",
   "name": "python",
   "nbconvert_exporter": "python",
   "pygments_lexer": "ipython3",
   "version": "3.6.8"
  }
 },
 "nbformat": 4,
 "nbformat_minor": 2
}
